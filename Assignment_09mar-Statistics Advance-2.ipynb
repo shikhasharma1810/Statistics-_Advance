{
 "cells": [
  {
   "cell_type": "code",
   "execution_count": null,
   "id": "69060b6a-caad-4416-b92c-04d3742f6c55",
   "metadata": {},
   "outputs": [],
   "source": [
    "Q1: What are the Probability Mass Function (PMF) and Probability Density Function (PDF)? Explain with\n",
    "an example."
   ]
  },
  {
   "cell_type": "code",
   "execution_count": null,
   "id": "0a1c4991-36e5-4b0c-a8e8-7aca64db15a9",
   "metadata": {},
   "outputs": [],
   "source": [
    "Probability Density Function(pdf): \n",
    "Distribution of continuous random variable is denoted by Probability Density Function(pdf).\n",
    "Ex- heights of students in classroom.\n",
    "PDF values are always in between 0 to 1.\n",
    "\n",
    "Probability density is basically a gradient of cumulative curve.\n",
    "\n",
    "Probability Mass Function(pmf): \n",
    "Distribution of discrete random variable is denoted by Probability Mass Function(pmf).\n",
    "Ex- rolling a dice or tossing a coin."
   ]
  },
  {
   "cell_type": "code",
   "execution_count": null,
   "id": "aa92025e-36a2-4c8e-bed0-1fae516f5284",
   "metadata": {},
   "outputs": [],
   "source": [
    "Q2: What is Cumulative Density Function (CDF)? Explain with an example. Why CDF is used?"
   ]
  },
  {
   "cell_type": "code",
   "execution_count": null,
   "id": "29c7b4e8-8d85-4fa7-8be7-2db806de6c2a",
   "metadata": {},
   "outputs": [],
   "source": [
    "The cumulative distribution function (CDF) is a statistical function that describes the \n",
    "probability distribution of random variables. It is usually denoted as F(x) and is the \n",
    "probability that the random variable X is less than or equal to x.\n",
    "\n",
    "Ex: What are the chances that when you toss a coin five times, you'll get four or fewer\n",
    "heads? That's cumulative probability. The events in cumulative probability may be sequential, \n",
    "like coin tosses in a row, or they may be in a range.\n",
    "\n",
    "Cumulative distribution functions are fantastic for comparing two distributions. \n",
    "By comparing the CDFs of two random variables, we can see if one is more likely to be\n",
    "less than or equal to a specific value than the other. That helps us make decisions about \n",
    "whether one is more likely to have a particular property."
   ]
  },
  {
   "cell_type": "code",
   "execution_count": null,
   "id": "65401017-2ab2-41e9-b305-df54fc2c55a3",
   "metadata": {},
   "outputs": [],
   "source": [
    "Q3: What are some examples of situations where the normal distribution might be used as a model?\n",
    "Explain how the parameters of the normal distribution relate to the shape of the distribution."
   ]
  },
  {
   "cell_type": "code",
   "execution_count": null,
   "id": "275c83ba-c7d0-4fc7-b909-a867b32c96ac",
   "metadata": {},
   "outputs": [],
   "source": [
    "Height, birth weight, reading ability, job satisfaction, or SAT scores are just a few examples\n",
    "of such variables.\n",
    "The two main parameters of a (normal) distribution are the mean and standard deviation.\n",
    "The parameters determine the shape and probabilities of the distribution. The shape of the\n",
    "distribution changes as the parameter values change."
   ]
  },
  {
   "cell_type": "code",
   "execution_count": null,
   "id": "7b78de03-948c-4e42-9527-e8b25f95285b",
   "metadata": {},
   "outputs": [],
   "source": [
    "Q4: Explain the importance of Normal Distribution. Give a few real-life examples of Normal\n",
    "Distribution."
   ]
  },
  {
   "cell_type": "code",
   "execution_count": null,
   "id": "e3614f86-53c4-48ab-bc28-b20947f5c1a6",
   "metadata": {},
   "outputs": [],
   "source": [
    "It  is the continuous probability distribution for a real-valued random varaible.\n",
    "b. It is symmetric and bell-shaped.\n",
    "c. Empirical rule of normal distribution: The empirical rule, also known as the 68-95-99.7 rule,\n",
    "is a guideline for how data is distributed in a normal distribution. It states that:\n",
    "** 68% of data points will fall within one standard deviation of the mean.\n",
    "** 95% of data points will fall within two standard deviations of the mean.\n",
    "** 99.7% of data points will fall within three standard deviations of the mean. \n",
    "\n",
    "Ex- weight/height of students in the class, blood pressure, IQ and etc."
   ]
  },
  {
   "cell_type": "code",
   "execution_count": null,
   "id": "7cbdaade-5561-48d8-b47a-71aaebfc044b",
   "metadata": {},
   "outputs": [],
   "source": [
    "Q5: What is Bernaulli Distribution? Give an Example. What is the difference between Bernoulli\n",
    "Distribution and Binomial Distribution?"
   ]
  },
  {
   "cell_type": "code",
   "execution_count": null,
   "id": "c86b0bfe-c089-4325-827b-3f856b72dd58",
   "metadata": {},
   "outputs": [],
   "source": [
    "Bernouli Distribution: is the discrete probability distribution of a random varaible(pmf).\n",
    "a. A single succes/failure experiment is called Bernouli trial.\n",
    "b. Here we use probablity mass function. Outcomes are binary only.\n",
    "c. Ex- tossing a coin(head/tail), whether the person will pass/fail.\n",
    "\n",
    "The main difference between the two is that Bernoulli deals with the outcome of a single\n",
    "trial of an event, while Binomial deals with the outcome of multiple trials of the same event."
   ]
  },
  {
   "cell_type": "code",
   "execution_count": null,
   "id": "b1d26bd4-b0af-4dd7-b4e7-168d9fe65826",
   "metadata": {},
   "outputs": [],
   "source": [
    "Q6. Consider a dataset with a mean of 50 and a standard deviation of 10. If we assume that the dataset\n",
    "is normally distributed, what is the probability that a randomly selected observation will be greater\n",
    "than 60? Use the appropriate formula and show your calculations."
   ]
  },
  {
   "cell_type": "code",
   "execution_count": null,
   "id": "1e5cac4e-7c21-47c9-a6a5-f681d691ca6e",
   "metadata": {},
   "outputs": [],
   "source": [
    "Given: mean=50, std=10\n",
    "So, we need to consider z-score to determine the probability that a randomly selected observation will be greater\n",
    "than 60.\n",
    "\n",
    "z-score,z = (x-μ)/σ\n",
    "where x is the raw score, μ is the population mean, and σ is the population standard deviation.\n",
    "\n",
    "z = (60-50)/10 = 1\n",
    "At 1 the z-score is 0.8413.\n",
    "Then probality = 1-0.8413 = 0.1587 or 15.87%."
   ]
  },
  {
   "cell_type": "code",
   "execution_count": null,
   "id": "a261907d-f8c4-4088-b990-78490c7e13ff",
   "metadata": {},
   "outputs": [],
   "source": [
    "Q7: Explain uniform Distribution with an example."
   ]
  },
  {
   "cell_type": "code",
   "execution_count": null,
   "id": "995d732f-95ed-4f7d-9654-baa5bce5415c",
   "metadata": {},
   "outputs": [],
   "source": [
    "In statistics, uniform distribution refers to a type of probability distribution in which all\n",
    "outcomes are equally likely. A deck of cards has within it uniform distributions because the \n",
    "likelihood of drawing a heart, a club, a diamond, or a spade is equally likely."
   ]
  },
  {
   "cell_type": "code",
   "execution_count": null,
   "id": "37588057-7d85-4d9b-8e31-e573b2948644",
   "metadata": {},
   "outputs": [],
   "source": [
    "Q8: What is the z score? State the importance of the z score."
   ]
  },
  {
   "cell_type": "code",
   "execution_count": null,
   "id": "49be88f1-b20a-4246-b1ef-d01220485dc1",
   "metadata": {},
   "outputs": [],
   "source": [
    "A z-score is a statistical measurement that describes how far a value is from the mean of a group\n",
    "of values, measured in standard deviations. Z-scores can be positive or negative, with a positive \n",
    "value indicating the score is above the mean and a negative score indicating it is below the mean.\n",
    "A z-score of 0 indicates that the data point's score is identical to the mean score.\n",
    "\n",
    "Z-scores are important because they tell us not only something about the value itself, but also \n",
    "where the value lies in the distribution."
   ]
  },
  {
   "cell_type": "code",
   "execution_count": null,
   "id": "c3f12831-cd78-4f73-b63b-9cfea31c5ed5",
   "metadata": {},
   "outputs": [],
   "source": [
    "Q9: What is Central Limit Theorem? State the significance of the Central Limit Theorem."
   ]
  },
  {
   "cell_type": "code",
   "execution_count": null,
   "id": "9fb5d9dd-9742-43d3-835c-e672d4272d2e",
   "metadata": {},
   "outputs": [],
   "source": [
    "The Central Limit Theorem (CLT) is a statistical theory that states that the mean of a large sample\n",
    "from a population with a finite variance will be approximately equal to the population mean, even if\n",
    "the population itself is not normally distributed.\n",
    "\n",
    "The CLT is significant because it implies that probabilistic and statistical methods that work for \n",
    "normal distributions can be applicable to many problems involving other types of distributions.\n",
    "It also provides a solid foundation for constructing confidence intervals and performing hypothesis tests,\n",
    "making statistical estimates more reliable and accurate."
   ]
  },
  {
   "cell_type": "code",
   "execution_count": null,
   "id": "a4361d9c-5148-491f-a53c-9e075782ef72",
   "metadata": {},
   "outputs": [],
   "source": [
    "Q10: State the assumptions of the Central Limit Theorem."
   ]
  },
  {
   "cell_type": "code",
   "execution_count": null,
   "id": "c8eed282-0cf8-430f-aa94-e84c060824da",
   "metadata": {},
   "outputs": [],
   "source": [
    "The Central Limit Theorem (CLT) has the following assumptions:\n",
    "a. The sample is drawn randomly from the population\n",
    "b. The samples are independent of each other\n",
    "c. The sample size is large enough\n",
    "d. The sample size is no more than 10% of the population when sampling without replacement\n",
    "e. The population is not changing during sampling\n",
    "f. The population being sampled is normally distributed\n",
    "g. The histogram made from all of the sample means will be normally distributed\n",
    "h. The mean of the sampling distribution will equal the population mean of the sampled population"
   ]
  }
 ],
 "metadata": {
  "kernelspec": {
   "display_name": "Python 3 (ipykernel)",
   "language": "python",
   "name": "python3"
  },
  "language_info": {
   "codemirror_mode": {
    "name": "ipython",
    "version": 3
   },
   "file_extension": ".py",
   "mimetype": "text/x-python",
   "name": "python",
   "nbconvert_exporter": "python",
   "pygments_lexer": "ipython3",
   "version": "3.10.8"
  }
 },
 "nbformat": 4,
 "nbformat_minor": 5
}
